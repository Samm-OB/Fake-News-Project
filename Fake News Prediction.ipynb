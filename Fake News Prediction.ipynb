{
 "cells": [
  {
   "cell_type": "markdown",
   "id": "3491764b-ea6c-422e-b50c-6a2ddd58801c",
   "metadata": {},
   "source": [
    "1. Data Collection\n",
    "Use datasets like LIAR, FakeNewsNet, or Kaggle’s Fake News Dataset\n",
    "Scrape news articles from websites (ensure legality and ethical considerations)\n",
    "\n",
    "2. Data Preprocessing\n",
    "Remove stopwords, punctuation, and special characters\n",
    "Tokenize and normalize text (e.g., lemmatization)\n",
    "Convert text to lowercase for consistency\n",
    "                         \n",
    "3. Feature Engineering\n",
    "TF-IDF (Term Frequency-Inverse Document Frequency)\n",
    "Word embeddings (Word2Vec, GloVe, BERT)\n",
    "N-grams to capture contextual relationships\n",
    "Metadata features like source credibility, publication date\n",
    "\n",
    "4. Model Selection\n",
    "Traditional Machine Learning Models: Logistic Regression, Random Forest, Naïve Bayes\n",
    "Deep Learning Models: LSTMs, Bi-LSTMs, Transformers (BERT, RoBERTa)\n",
    "\n",
    "5. Training & Evaluation\n",
    "Use a train-test split (e.g., 80-20)\n",
    "Metrics: Accuracy, Precision, Recall, F1-score\n",
    "Handle class imbalance (oversampling/undersampling, weighted loss functions)\n",
    "\n",
    "6. Deployment\n",
    "Convert model into an API using Flask/FastAPI\n",
    "Deploy using Gradio/Streamlit for user interaction\n",
    "Host on AWS, Heroku, or GCP"
   ]
  },
  {
   "cell_type": "code",
   "execution_count": 1,
   "id": "3d81a931-9eef-4161-870c-2b9ba01cf649",
   "metadata": {},
   "outputs": [
    {
     "name": "stderr",
     "output_type": "stream",
     "text": [
      "C:\\Users\\rt\\anaconda3\\Lib\\site-packages\\torch\\utils\\_pytree.py:185: FutureWarning: optree is installed but the version is too old to support PyTorch Dynamo in C++ pytree. C++ pytree support is disabled. Please consider upgrading optree using `python3 -m pip install --upgrade 'optree>=0.13.0'`.\n",
      "  warnings.warn(\n"
     ]
    }
   ],
   "source": [
    "import pandas as pd\n",
    "import numpy as np\n",
    "import nltk\n",
    "from nltk.corpus import stopwords\n",
    "import torch\n",
    "import torch.nn  as nn\n",
    "nltk.download('stopwords')\n",
    "nltk.download('punkt')"
   ]
  },
  {
   "cell_type": "markdown",
   "id": "85f8ea33-5072-4a2a-b3f4-dc5404f7073c",
   "metadata": {},
   "source": [
    "nltk.download('stopwords')\n",
    "\n",
    "Downloads a list of common words (like \"the,\" \"is,\" \"and\") that are often removed (i.e., \"stopped\") during text processing to improve the efficiency of NLP models.\n",
    "nltk.download('punkt')\n",
    "\n",
    "Downloads the Punkt tokenizer, which helps split text into sentences and words."
   ]
  },
  {
   "cell_type": "code",
   "execution_count": 3,
   "id": "a701f93e-39d7-4cd5-8dc2-90905b31d542",
   "metadata": {},
   "outputs": [
    {
     "data": {
      "text/html": [
       "<div>\n",
       "<style scoped>\n",
       "    .dataframe tbody tr th:only-of-type {\n",
       "        vertical-align: middle;\n",
       "    }\n",
       "\n",
       "    .dataframe tbody tr th {\n",
       "        vertical-align: top;\n",
       "    }\n",
       "\n",
       "    .dataframe thead th {\n",
       "        text-align: right;\n",
       "    }\n",
       "</style>\n",
       "<table border=\"1\" class=\"dataframe\">\n",
       "  <thead>\n",
       "    <tr style=\"text-align: right;\">\n",
       "      <th></th>\n",
       "      <th>title</th>\n",
       "      <th>news_url</th>\n",
       "      <th>source_domain</th>\n",
       "      <th>tweet_num</th>\n",
       "      <th>real</th>\n",
       "    </tr>\n",
       "  </thead>\n",
       "  <tbody>\n",
       "    <tr>\n",
       "      <th>0</th>\n",
       "      <td>Kandi Burruss Explodes Over Rape Accusation on...</td>\n",
       "      <td>http://toofab.com/2017/05/08/real-housewives-a...</td>\n",
       "      <td>toofab.com</td>\n",
       "      <td>42</td>\n",
       "      <td>1</td>\n",
       "    </tr>\n",
       "    <tr>\n",
       "      <th>1</th>\n",
       "      <td>People's Choice Awards 2018: The best red carp...</td>\n",
       "      <td>https://www.today.com/style/see-people-s-choic...</td>\n",
       "      <td>www.today.com</td>\n",
       "      <td>0</td>\n",
       "      <td>1</td>\n",
       "    </tr>\n",
       "    <tr>\n",
       "      <th>2</th>\n",
       "      <td>Sophia Bush Sends Sweet Birthday Message to 'O...</td>\n",
       "      <td>https://www.etonline.com/news/220806_sophia_bu...</td>\n",
       "      <td>www.etonline.com</td>\n",
       "      <td>63</td>\n",
       "      <td>1</td>\n",
       "    </tr>\n",
       "    <tr>\n",
       "      <th>3</th>\n",
       "      <td>Colombian singer Maluma sparks rumours of inap...</td>\n",
       "      <td>https://www.dailymail.co.uk/news/article-33655...</td>\n",
       "      <td>www.dailymail.co.uk</td>\n",
       "      <td>20</td>\n",
       "      <td>1</td>\n",
       "    </tr>\n",
       "    <tr>\n",
       "      <th>4</th>\n",
       "      <td>Gossip Girl 10 Years Later: How Upper East Sid...</td>\n",
       "      <td>https://www.zerchoo.com/entertainment/gossip-g...</td>\n",
       "      <td>www.zerchoo.com</td>\n",
       "      <td>38</td>\n",
       "      <td>1</td>\n",
       "    </tr>\n",
       "  </tbody>\n",
       "</table>\n",
       "</div>"
      ],
      "text/plain": [
       "                                               title  \\\n",
       "0  Kandi Burruss Explodes Over Rape Accusation on...   \n",
       "1  People's Choice Awards 2018: The best red carp...   \n",
       "2  Sophia Bush Sends Sweet Birthday Message to 'O...   \n",
       "3  Colombian singer Maluma sparks rumours of inap...   \n",
       "4  Gossip Girl 10 Years Later: How Upper East Sid...   \n",
       "\n",
       "                                            news_url        source_domain  \\\n",
       "0  http://toofab.com/2017/05/08/real-housewives-a...           toofab.com   \n",
       "1  https://www.today.com/style/see-people-s-choic...        www.today.com   \n",
       "2  https://www.etonline.com/news/220806_sophia_bu...     www.etonline.com   \n",
       "3  https://www.dailymail.co.uk/news/article-33655...  www.dailymail.co.uk   \n",
       "4  https://www.zerchoo.com/entertainment/gossip-g...      www.zerchoo.com   \n",
       "\n",
       "   tweet_num  real  \n",
       "0         42     1  \n",
       "1          0     1  \n",
       "2         63     1  \n",
       "3         20     1  \n",
       "4         38     1  "
      ]
     },
     "execution_count": 3,
     "metadata": {},
     "output_type": "execute_result"
    }
   ],
   "source": [
    "df = pd.read_csv(\"FakeNewsNet.csv\")\n",
    "df.head()"
   ]
  },
  {
   "cell_type": "code",
   "execution_count": 4,
   "id": "43a5478e-d816-47e3-a88d-7ce349181a63",
   "metadata": {},
   "outputs": [
    {
     "data": {
      "text/plain": [
       "(23196, 5)"
      ]
     },
     "execution_count": 4,
     "metadata": {},
     "output_type": "execute_result"
    }
   ],
   "source": [
    "df.shape  #to get the number of rows sand cols of the dataset"
   ]
  },
  {
   "cell_type": "code",
   "execution_count": 5,
   "id": "e01d9f98-f83f-42f3-bcc5-45a1d0fe8496",
   "metadata": {},
   "outputs": [
    {
     "data": {
      "text/plain": [
       "title              0\n",
       "news_url         330\n",
       "source_domain    330\n",
       "tweet_num          0\n",
       "real               0\n",
       "dtype: int64"
      ]
     },
     "execution_count": 5,
     "metadata": {},
     "output_type": "execute_result"
    }
   ],
   "source": [
    "df.isna().sum()   # to sum of the valumes that have empty values in each column"
   ]
  },
  {
   "cell_type": "code",
   "execution_count": 6,
   "id": "e5ddfed6-9555-4b02-ba37-146d2b7c968c",
   "metadata": {},
   "outputs": [
    {
     "data": {
      "text/plain": [
       "(22866, 5)"
      ]
     },
     "execution_count": 6,
     "metadata": {},
     "output_type": "execute_result"
    }
   ],
   "source": [
    "# Since the columns sum of empty columns are not much the i will just drop them\n",
    "df = df.dropna()\n",
    "df.shape"
   ]
  },
  {
   "cell_type": "code",
   "execution_count": 7,
   "id": "5e7bfc40-bdcf-4e58-89fa-25c4281a9a5e",
   "metadata": {},
   "outputs": [
    {
     "name": "stdout",
     "output_type": "stream",
     "text": [
      "Distribution in percentage\n",
      "real\n",
      "1    75.968687\n",
      "0    24.031313\n",
      "Name: count, dtype: float64\n"
     ]
    }
   ],
   "source": [
    "# I want t know the ratio of fake news to real news to see the if there's balnace\n",
    "print(\"Distribution in percentage\")\n",
    "print(f\"{df['real'].value_counts() * 100 / df.shape[0]}\")"
   ]
  },
  {
   "cell_type": "code",
   "execution_count": 17,
   "id": "4f642f42-48b8-43a1-b083-05913d0633fe",
   "metadata": {},
   "outputs": [
    {
     "data": {
      "text/html": [
       "<div>\n",
       "<style scoped>\n",
       "    .dataframe tbody tr th:only-of-type {\n",
       "        vertical-align: middle;\n",
       "    }\n",
       "\n",
       "    .dataframe tbody tr th {\n",
       "        vertical-align: top;\n",
       "    }\n",
       "\n",
       "    .dataframe thead th {\n",
       "        text-align: right;\n",
       "    }\n",
       "</style>\n",
       "<table border=\"1\" class=\"dataframe\">\n",
       "  <thead>\n",
       "    <tr style=\"text-align: right;\">\n",
       "      <th></th>\n",
       "      <th>title</th>\n",
       "      <th>news_url</th>\n",
       "      <th>source_domain</th>\n",
       "      <th>tweet_num</th>\n",
       "      <th>real</th>\n",
       "      <th>text</th>\n",
       "    </tr>\n",
       "  </thead>\n",
       "  <tbody>\n",
       "    <tr>\n",
       "      <th>0</th>\n",
       "      <td>Kandi Burruss Explodes Over Rape Accusation on...</td>\n",
       "      <td>http://toofab.com/2017/05/08/real-housewives-a...</td>\n",
       "      <td>toofab.com</td>\n",
       "      <td>42</td>\n",
       "      <td>1</td>\n",
       "      <td>Kandi Burruss Explodes Over Rape Accusation on...</td>\n",
       "    </tr>\n",
       "    <tr>\n",
       "      <th>1</th>\n",
       "      <td>People's Choice Awards 2018: The best red carp...</td>\n",
       "      <td>https://www.today.com/style/see-people-s-choic...</td>\n",
       "      <td>www.today.com</td>\n",
       "      <td>0</td>\n",
       "      <td>1</td>\n",
       "      <td>People's Choice Awards 2018: The best red carp...</td>\n",
       "    </tr>\n",
       "    <tr>\n",
       "      <th>2</th>\n",
       "      <td>Sophia Bush Sends Sweet Birthday Message to 'O...</td>\n",
       "      <td>https://www.etonline.com/news/220806_sophia_bu...</td>\n",
       "      <td>www.etonline.com</td>\n",
       "      <td>63</td>\n",
       "      <td>1</td>\n",
       "      <td>Sophia Bush Sends Sweet Birthday Message to 'O...</td>\n",
       "    </tr>\n",
       "    <tr>\n",
       "      <th>3</th>\n",
       "      <td>Colombian singer Maluma sparks rumours of inap...</td>\n",
       "      <td>https://www.dailymail.co.uk/news/article-33655...</td>\n",
       "      <td>www.dailymail.co.uk</td>\n",
       "      <td>20</td>\n",
       "      <td>1</td>\n",
       "      <td>Colombian singer Maluma sparks rumours of inap...</td>\n",
       "    </tr>\n",
       "    <tr>\n",
       "      <th>4</th>\n",
       "      <td>Gossip Girl 10 Years Later: How Upper East Sid...</td>\n",
       "      <td>https://www.zerchoo.com/entertainment/gossip-g...</td>\n",
       "      <td>www.zerchoo.com</td>\n",
       "      <td>38</td>\n",
       "      <td>1</td>\n",
       "      <td>Gossip Girl 10 Years Later: How Upper East Sid...</td>\n",
       "    </tr>\n",
       "  </tbody>\n",
       "</table>\n",
       "</div>"
      ],
      "text/plain": [
       "                                               title  \\\n",
       "0  Kandi Burruss Explodes Over Rape Accusation on...   \n",
       "1  People's Choice Awards 2018: The best red carp...   \n",
       "2  Sophia Bush Sends Sweet Birthday Message to 'O...   \n",
       "3  Colombian singer Maluma sparks rumours of inap...   \n",
       "4  Gossip Girl 10 Years Later: How Upper East Sid...   \n",
       "\n",
       "                                            news_url        source_domain  \\\n",
       "0  http://toofab.com/2017/05/08/real-housewives-a...           toofab.com   \n",
       "1  https://www.today.com/style/see-people-s-choic...        www.today.com   \n",
       "2  https://www.etonline.com/news/220806_sophia_bu...     www.etonline.com   \n",
       "3  https://www.dailymail.co.uk/news/article-33655...  www.dailymail.co.uk   \n",
       "4  https://www.zerchoo.com/entertainment/gossip-g...      www.zerchoo.com   \n",
       "\n",
       "   tweet_num  real                                               text  \n",
       "0         42     1  Kandi Burruss Explodes Over Rape Accusation on...  \n",
       "1          0     1  People's Choice Awards 2018: The best red carp...  \n",
       "2         63     1  Sophia Bush Sends Sweet Birthday Message to 'O...  \n",
       "3         20     1  Colombian singer Maluma sparks rumours of inap...  \n",
       "4         38     1  Gossip Girl 10 Years Later: How Upper East Sid...  "
      ]
     },
     "execution_count": 17,
     "metadata": {},
     "output_type": "execute_result"
    }
   ],
   "source": [
    "df['text'] = df['title'] + \" \" +  df['news_url'] + \" \" + df['source_domain']\n",
    "\n",
    "df.head()"
   ]
  },
  {
   "cell_type": "markdown",
   "id": "70577182-1a94-4b96-83cd-524eec85d278",
   "metadata": {},
   "source": [
    "# Data Preprocessing \n",
    "Remove stopwords, punctuation, and special characters Tokenize and normalize text (e.g., lemmatization) Convert text to lowercase for consistency\n",
    "\n",
    "What Does It Mean to Normalize Text in NLP?\n",
    "Text normalization is the process of converting text into a standardized and consistent format to improve the performance of Natural Language Processing (NLP) models. It reduces variations in text that may have the same meaning but appear differently.\n",
    "\n",
    "Key Steps in Text Normalization\n",
    "\n",
    "1️ Lowercasing\n",
    "\n",
    "Converts all text to lowercase to avoid treating \"Apple\" and \"apple\" as different words.\n",
    "\n",
    "Example: \"The QUICK Brown Fox\" → \"the quick brown fox\"\n",
    "\n",
    "2️ Removing Punctuation & Special Characters\n",
    "\n",
    "Eliminates symbols like .,!?; as they don’t contribute much to meaning in most NLP tasks.\n",
    "Example: \"Hello, world!!\" → \"Hello world\"\n",
    "\n",
    "3️ Tokenization\n",
    "\n",
    "Breaks text into individual words (tokens).\n",
    "Example: \"I love NLP!\" → [\"I\", \"love\", \"NLP\"]\n",
    "\n",
    "4️ Stopword Removal\n",
    "Removes common words like \"the\", \"is\", \"and\" that don’t add much meaning.\n",
    "Example: \"the cat is on the table\" → \"cat table\"\n",
    "\n",
    "5️ Stemming (Optional)\n",
    "Reduces words to their root form by chopping off endings.\n",
    "Example: \"running\", \"runs\", \"ran\" → \"run\"\n",
    "\n",
    "6️ Lemmatization (Optional)\n",
    "Converts words to their base dictionary form (more accurate than stemming).\n",
    "Example:\n",
    "\"better\" → \"good\"\n",
    "\"running\" → \"run\"\n",
    "\n",
    "7 Removing Numbers\n",
    "Numbers may not be useful in some NLP tasks.\n",
    "Example: \"I have 3 apples\" → \"I have apples\"\n",
    "\n",
    "8️ Removing URLs & Email Addresses\n",
    "Cleans unnecessary links or emails.\n",
    "Example: \"Visit https://example.com\" → \"Visit\"\n",
    "\n",
    "Why Normalize Text?\n",
    " Makes text consistent\n",
    "Reduces dimensionality (fewer unique words → better performance)\n",
    "Improves accuracy of NLP models\n",
    "Helps models understand context better"
   ]
  },
  {
   "cell_type": "code",
   "execution_count": 20,
   "id": "18d906e3-ab8c-46e2-a525-5401d1e0caa6",
   "metadata": {},
   "outputs": [],
   "source": [
    "import string\n",
    "from nltk.tokenize import word_tokenize\n",
    "# Stopwords are removed because they don’t add much meaning in text analysis. e.g is, an, a, or etc.\n",
    "stop_words = set(stopwords.words('english'))\n",
    "\n",
    "# This function applies preprocess_text() to each row in a Pandas Series.\n",
    "def preprocess_series(series):\n",
    "    return series.apply(preprocess_text)\n",
    "\n",
    "\n",
    "'''Removes punctuation → \"Hello, World!\" → \"Hello World\"\n",
    "Converts to lowercase → \"HELLO\" → \"hello\"\n",
    "Tokenizes text → \"hello world\" → [\"hello\", \"world\"]\n",
    "Removes stopwords → \"this is a test\" → \"test\"\n",
    "Removes non-alphabetic tokens → \"100% real\" → \"real\"\n",
    "Joins tokens back into a single string'''\n",
    "def preprocess_text(text):\n",
    "    text = text.translate(str.maketrans(\"\", \"\", string.punctuation)) #removes punctuation from text\n",
    "    text = text.lower()  # converts to lower text\n",
    "    tokens = word_tokenize(text) #tokenize text i.e make each word an element in list\n",
    "    tokens = [word for word in tokens if word.lower() not in stop_words] # remove stopwords from token\n",
    "    tokens = [word for word in tokens if word.isalpha()] #keep only alpahabets in the token\n",
    "    preprocessed_txt = ' '.join(tokens) #join tokens back to string\n",
    "\n",
    "    return preprocessed_txt"
   ]
  },
  {
   "cell_type": "code",
   "execution_count": 22,
   "id": "dea46f3f-a25a-4cbd-94e6-de9bf021adbb",
   "metadata": {},
   "outputs": [
    {
     "data": {
      "text/html": [
       "<div>\n",
       "<style scoped>\n",
       "    .dataframe tbody tr th:only-of-type {\n",
       "        vertical-align: middle;\n",
       "    }\n",
       "\n",
       "    .dataframe tbody tr th {\n",
       "        vertical-align: top;\n",
       "    }\n",
       "\n",
       "    .dataframe thead th {\n",
       "        text-align: right;\n",
       "    }\n",
       "</style>\n",
       "<table border=\"1\" class=\"dataframe\">\n",
       "  <thead>\n",
       "    <tr style=\"text-align: right;\">\n",
       "      <th></th>\n",
       "      <th>text</th>\n",
       "      <th>Clean text</th>\n",
       "    </tr>\n",
       "  </thead>\n",
       "  <tbody>\n",
       "    <tr>\n",
       "      <th>0</th>\n",
       "      <td>Kandi Burruss Explodes Over Rape Accusation on...</td>\n",
       "      <td>kandi burruss explodes rape accusation real ho...</td>\n",
       "    </tr>\n",
       "    <tr>\n",
       "      <th>1</th>\n",
       "      <td>People's Choice Awards 2018: The best red carp...</td>\n",
       "      <td>peoples choice awards best red carpet looks ww...</td>\n",
       "    </tr>\n",
       "    <tr>\n",
       "      <th>2</th>\n",
       "      <td>Sophia Bush Sends Sweet Birthday Message to 'O...</td>\n",
       "      <td>sophia bush sends sweet birthday message one t...</td>\n",
       "    </tr>\n",
       "    <tr>\n",
       "      <th>3</th>\n",
       "      <td>Colombian singer Maluma sparks rumours of inap...</td>\n",
       "      <td>colombian singer maluma sparks rumours inappro...</td>\n",
       "    </tr>\n",
       "    <tr>\n",
       "      <th>4</th>\n",
       "      <td>Gossip Girl 10 Years Later: How Upper East Sid...</td>\n",
       "      <td>gossip girl years later upper east siders shoc...</td>\n",
       "    </tr>\n",
       "  </tbody>\n",
       "</table>\n",
       "</div>"
      ],
      "text/plain": [
       "                                                text  \\\n",
       "0  Kandi Burruss Explodes Over Rape Accusation on...   \n",
       "1  People's Choice Awards 2018: The best red carp...   \n",
       "2  Sophia Bush Sends Sweet Birthday Message to 'O...   \n",
       "3  Colombian singer Maluma sparks rumours of inap...   \n",
       "4  Gossip Girl 10 Years Later: How Upper East Sid...   \n",
       "\n",
       "                                          Clean text  \n",
       "0  kandi burruss explodes rape accusation real ho...  \n",
       "1  peoples choice awards best red carpet looks ww...  \n",
       "2  sophia bush sends sweet birthday message one t...  \n",
       "3  colombian singer maluma sparks rumours inappro...  \n",
       "4  gossip girl years later upper east siders shoc...  "
      ]
     },
     "execution_count": 22,
     "metadata": {},
     "output_type": "execute_result"
    }
   ],
   "source": [
    "df['Clean text'] = preprocess_series(df['text'])\n",
    "df[['text','Clean text' ]].head()"
   ]
  },
  {
   "cell_type": "markdown",
   "id": "f7c483c3-cf77-4f98-aa1f-ca29cb56ecce",
   "metadata": {},
   "source": [
    "# Feature Engineering \n",
    "TF-IDF (Term Frequency-Inverse Document Frequency) Word embeddings (Word2Vec, GloVe, BERT) N-grams to capture contextual relationships Metadata features like source credibility, publication date"
   ]
  },
  {
   "cell_type": "markdown",
   "id": "e552bba8-b59d-4fe0-af36-b4f2accb01a9",
   "metadata": {},
   "source": [
    "1️ Word2Vec (Word Embeddings)\n",
    "🔹 What It Does:\n",
    "Converts words into dense numerical vectors based on their meaning.\n",
    "Words with similar meanings have similar vector representations.\n",
    "Helps models understand word relationships instead of treating words as isolated tokens.\n",
    "🔹 How It Works:\n",
    "CBOW (Continuous Bag of Words): Predicts a word based on surrounding words.\n",
    "Skip-Gram: Predicts surrounding words given a central word.\n",
    "🔹 Example:\n",
    "Words like \"king\", \"queen\", and \"prince\" will have vectors that are closer in space.\n",
    " vector(\"king\") - vector(\"man\") + vector(\"woman\") ≈ vector(\"queen\")\n",
    "\n",
    "🔹 Use Cases:\n",
    " Sentiment Analysis\n",
    " Text Classification\n",
    " Similarity Detection\n",
    "\n",
    "2️ BERT (Bidirectional Encoder Representations from Transformers)\n",
    "🔹 What It Does:\n",
    "A deep learning-based NLP model that understands context better than Word2Vec.\n",
    "Unlike Word2Vec (which treats words in isolation), BERT considers the entire sentence bidirectionally (left & right).\n",
    "Helps in understanding polysemy (words with multiple meanings based on context).\n",
    "🔹 How It Works:\n",
    "Uses transformers (self-attention mechanism) to analyze the entire sentence structure.\n",
    "Fine-tuned on specific NLP tasks for higher accuracy.\n",
    "🔹 Example:\n",
    "Sentence: \"He went to the bank to withdraw money.\"\n",
    "\n",
    "BERT understands \"bank\" means financial institution (not a riverbank).\n",
    "Sentence: \"The boat is docked at the bank of the river.\"\n",
    "\n",
    "Here, BERT understands \"bank\" as a riverbank.\n",
    "🔹 Use Cases:\n",
    " Machine Translation\n",
    " Chatbots & Virtual Assistants\n",
    " Fake News Detection\n",
    " Question Answering (e.g., ChatGPT)\n",
    "\n",
    "3️ N-grams (Text Representation)\n",
    "🔹 What It Does:\n",
    "N-grams are sequences of N words used to capture phrase-based meaning.\n",
    "Helps statistical models understand the structure of language.\n",
    "🔹 Types of N-grams:\n",
    "Unigram (1-gram): \"I love NLP\" → [\"I\", \"love\", \"NLP\"]\n",
    "Bigram (2-gram): \"I love NLP\" → [\"I love\", \"love NLP\"]\n",
    "Trigram (3-gram): \"I love NLP\" → [\"I love NLP\"]\n",
    "🔹 Use Cases:\n",
    " Text Prediction (e.g., autocomplete)\n",
    " Speech Recognition\n",
    " Spam Detection"
   ]
  },
  {
   "cell_type": "code",
   "execution_count": 25,
   "id": "7afa3aa9-32f9-45cd-b02a-68d3f2ccfc40",
   "metadata": {},
   "outputs": [
    {
     "data": {
      "text/plain": [
       "26715"
      ]
     },
     "execution_count": 25,
     "metadata": {},
     "output_type": "execute_result"
    }
   ],
   "source": [
    "from numpy import triu\n",
    "from gensim.models import Word2Vec\n",
    "import gensim\n",
    "from scipy.linalg import triu\n",
    "''' df['preprocessed_text']\n",
    "\n",
    "This accesses the column preprocessed_text in the DataFrame df.\n",
    "This column contains text data that has already been cleaned (e.g., removing punctuation, stopwords, etc.).\n",
    "2️⃣ .apply(lambda x: x.split())\n",
    "\n",
    ".apply() applies a function to each row in the column.\n",
    "lambda x: x.split() is a lambda function (an anonymous function) that:\n",
    "Takes x, which is a single text entry (a string).\n",
    "Splits it into a list of words (tokens), breaking at spaces.'''\n",
    "word2vec_model = Word2Vec(df['Clean text'].apply(lambda x: x.split()),\n",
    "                                                vector_size=100, min_count=1, window=5)\n",
    "# Retrieves the vocabulary size (number of unique words learned by Word2Vec).\n",
    "vocab_size = len(word2vec_model.wv)\n",
    "vocab_size\n"
   ]
  },
  {
   "cell_type": "raw",
   "id": "fc6fcf27-9e74-462d-a2ee-da2f8ab6aec0",
   "metadata": {},
   "source": [
    "1️ vector_size=100\n",
    "Each word in your dataset is represented as a 100-dimensional vector (or an array with 100 numerical values).\n",
    "Higher dimensions capture more detailed relationships but also increase computation time.\n",
    "Example:\n",
    "\"Finance\" → [0.23, -0.67, ..., 1.14] (100 values)\n",
    "\"Investment\" → [0.12, -0.45, ..., 0.98]\n",
    "This means that words with similar meanings will have similar vectors (close in space).\n",
    "\n",
    "2️ min_count=1\n",
    "The model includes all words that appear at least once in the dataset.\n",
    "This is useful if you don’t want to ignore rare words.\n",
    "In larger datasets, we often set min_count=5 or min_count=10 to remove uncommon words, which might be noise.\n",
    "3️ window=5\n",
    "Defines the context around a word.\n",
    "A window size of 5 means that for each word, the model looks at the 5 words before and after it to learn relationships.\n",
    "Example (for \"finance\" with window=5):\n",
    "csharp\n",
    "Copy\n",
    "Edit\n",
    "The global finance industry is rapidly growing with new investments.\n",
    "             ↑\n",
    "        Target word\n",
    "Context words: \"The\", \"global\", \"industry\", \"is\", \"rapidly\"\n",
    "Model learns that \"finance\" is related to \"industry\", \"investment\", etc."
   ]
  },
  {
   "cell_type": "code",
   "execution_count": 28,
   "id": "1fe13b66-5ec9-45e1-94e4-0ad0231ffe4a",
   "metadata": {},
   "outputs": [],
   "source": [
    "# from transformers import BertTokenizer, BertModel\n",
    "# bert_model = BertTokenizer()\n"
   ]
  },
  {
   "cell_type": "code",
   "execution_count": 30,
   "id": "22d0614b-99bc-4be1-a102-1ee22f2fdcf9",
   "metadata": {},
   "outputs": [],
   "source": [
    "import tensorflow as tf\n",
    "from keras.layers import Embedding, LSTM, GRU, Dense, Dropout\n",
    "from keras.models import Sequential\n",
    "from tensorflow.keras.preprocessing.text import Tokenizer"
   ]
  },
  {
   "cell_type": "code",
   "execution_count": 31,
   "id": "a58f2673-539c-402b-abf6-089dbe5d05ad",
   "metadata": {},
   "outputs": [
    {
     "data": {
      "text/html": [
       "<div>\n",
       "<style scoped>\n",
       "    .dataframe tbody tr th:only-of-type {\n",
       "        vertical-align: middle;\n",
       "    }\n",
       "\n",
       "    .dataframe tbody tr th {\n",
       "        vertical-align: top;\n",
       "    }\n",
       "\n",
       "    .dataframe thead th {\n",
       "        text-align: right;\n",
       "    }\n",
       "</style>\n",
       "<table border=\"1\" class=\"dataframe\">\n",
       "  <thead>\n",
       "    <tr style=\"text-align: right;\">\n",
       "      <th></th>\n",
       "      <th>text</th>\n",
       "      <th>Clean text</th>\n",
       "      <th>tokenized text</th>\n",
       "    </tr>\n",
       "  </thead>\n",
       "  <tbody>\n",
       "    <tr>\n",
       "      <th>0</th>\n",
       "      <td>Kandi Burruss Explodes Over Rape Accusation on...</td>\n",
       "      <td>kandi burruss explodes rape accusation real ho...</td>\n",
       "      <td>[4637, 5211, 3830, 989, 5212, 76, 229, 960, 18...</td>\n",
       "    </tr>\n",
       "    <tr>\n",
       "      <th>1</th>\n",
       "      <td>People's Choice Awards 2018: The best red carp...</td>\n",
       "      <td>peoples choice awards best red carpet looks ww...</td>\n",
       "      <td>[853, 255, 15, 26, 78, 109, 161, 120]</td>\n",
       "    </tr>\n",
       "    <tr>\n",
       "      <th>2</th>\n",
       "      <td>Sophia Bush Sends Sweet Birthday Message to 'O...</td>\n",
       "      <td>sophia bush sends sweet birthday message one t...</td>\n",
       "      <td>[1525, 1067, 1711, 337, 64, 489, 99, 2841, 125...</td>\n",
       "    </tr>\n",
       "    <tr>\n",
       "      <th>3</th>\n",
       "      <td>Colombian singer Maluma sparks rumours of inap...</td>\n",
       "      <td>colombian singer maluma sparks rumours inappro...</td>\n",
       "      <td>[7078, 414, 3831, 1227, 1297, 2842, 68, 3832, 4]</td>\n",
       "    </tr>\n",
       "    <tr>\n",
       "      <th>4</th>\n",
       "      <td>Gossip Girl 10 Years Later: How Upper East Sid...</td>\n",
       "      <td>gossip girl years later upper east siders shoc...</td>\n",
       "      <td>[787, 203, 66, 1650, 1950, 1951, 11878, 1952, ...</td>\n",
       "    </tr>\n",
       "  </tbody>\n",
       "</table>\n",
       "</div>"
      ],
      "text/plain": [
       "                                                text  \\\n",
       "0  Kandi Burruss Explodes Over Rape Accusation on...   \n",
       "1  People's Choice Awards 2018: The best red carp...   \n",
       "2  Sophia Bush Sends Sweet Birthday Message to 'O...   \n",
       "3  Colombian singer Maluma sparks rumours of inap...   \n",
       "4  Gossip Girl 10 Years Later: How Upper East Sid...   \n",
       "\n",
       "                                          Clean text  \\\n",
       "0  kandi burruss explodes rape accusation real ho...   \n",
       "1  peoples choice awards best red carpet looks ww...   \n",
       "2  sophia bush sends sweet birthday message one t...   \n",
       "3  colombian singer maluma sparks rumours inappro...   \n",
       "4  gossip girl years later upper east siders shoc...   \n",
       "\n",
       "                                      tokenized text  \n",
       "0  [4637, 5211, 3830, 989, 5212, 76, 229, 960, 18...  \n",
       "1              [853, 255, 15, 26, 78, 109, 161, 120]  \n",
       "2  [1525, 1067, 1711, 337, 64, 489, 99, 2841, 125...  \n",
       "3   [7078, 414, 3831, 1227, 1297, 2842, 68, 3832, 4]  \n",
       "4  [787, 203, 66, 1650, 1950, 1951, 11878, 1952, ...  "
      ]
     },
     "execution_count": 31,
     "metadata": {},
     "output_type": "execute_result"
    }
   ],
   "source": [
    "tokenizer = Tokenizer(num_words=vocab_size) # limits the vocabulary size to the vocab_size most frequent words.\n",
    "\n",
    "tokenizer.fit_on_texts(df['Clean text']) #It assigns an index to each word based on its frequency.\n",
    "\n",
    "df['tokenized text'] = tokenizer.texts_to_sequences(df['Clean text'])\n",
    "\n",
    "df[['text', 'Clean text', 'tokenized text']].head()"
   ]
  },
  {
   "cell_type": "raw",
   "id": "1377a09b-0c20-4808-8997-ec04ff444bea",
   "metadata": {},
   "source": [
    "Importance of the Tokenizer in NLP\n",
    "The Tokenizer from Keras is crucial in Natural Language Processing (NLP) because it transforms text into numerical data that machine learning models can understand. Here’s why it’s important:\n",
    "\n",
    "1️ Converts Text into Numerical Representation\n",
    "Machine learning models, especially deep learning models, work with numbers, not raw text.\n",
    "The Tokenizer assigns a unique index to each word, allowing text to be represented numerically.\n",
    "Example:\n",
    "\n",
    "text = [\"The stock market is booming\"]\n",
    "Tokenized output:\n",
    "\n",
    "python\n",
    "Copy\n",
    "Edit\n",
    "[1, 45, 78, 23, 99]  # Each word is replaced by a unique index\n",
    "2️ Helps with Word Frequency Control\n",
    "The num_words parameter lets you limit vocabulary size to the most frequent words.\n",
    "Reducing vocabulary size improves model efficiency and helps prevent overfitting.\n",
    "3️ Prepares Data for Word Embeddings (Word2Vec, GloVe, BERT)\n",
    "Many NLP models, like Word2Vec, FastText, GloVe, require tokenized input.\n",
    "Tokenizer makes it easy to feed text into these models.\n",
    "4️ Handles Out-of-Vocabulary (OOV) Words\n",
    "You can specify an out-of-vocabulary token (oov_token=\"UNK\") to manage unseen words during inference.\n",
    "Example:\n",
    "\n",
    "\n",
    "tokenizer = Tokenizer(num_words=5000, oov_token=\"UNK\")\n",
    "If a new word appears during testing, it will be replaced with \"UNK\" instead of being ignored.\n",
    "\n",
    "5️ Essential for Sequence-Based Deep Learning Models\n",
    "Models like LSTMs, GRUs, Transformers (BERT, GPT) need fixed-length input.\n",
    "Tokenizer helps convert text into integer sequences, which can then be padded to ensure equal length."
   ]
  },
  {
   "cell_type": "code",
   "execution_count": 32,
   "id": "6859debb-d610-42ea-a6e5-c8e54e06b205",
   "metadata": {},
   "outputs": [
    {
     "name": "stdout",
     "output_type": "stream",
     "text": [
      "36\n"
     ]
    }
   ],
   "source": [
    "from keras.preprocessing.sequence import pad_sequences\n",
    "# Find Maximum Sequence Length\n",
    "maxlen = df['tokenized text'].apply(len).max()\n",
    "print(maxlen)\n",
    "\n",
    "# Pad All Tokenized Sequences\n",
    "pad_text = pad_sequences(df['tokenized text'], maxlen=maxlen)\n",
    "\n",
    "# Convert padded text into a DataFrame Column\n",
    "# np.split(padded_text, padded_text.shape[0]) Converts padded_text into a list of individual arrays.\n",
    "df['pad_text'] = np.split(pad_text, pad_text.shape[0])\n",
    "\n",
    "#Extracts each row's array and stores it as a list.\n",
    "df['pad_text'] = df['pad_text'].apply(lambda x: x[0])"
   ]
  },
  {
   "cell_type": "raw",
   "id": "ffddea3c-4fdd-4709-a3df-5d815255a5c5",
   "metadata": {},
   "source": [
    "Why is Padding Important?\n",
    " Deep learning models need fixed input sizes\n",
    " Makes batch processing efficient\n",
    " Ensures all sequences have the same dimensions"
   ]
  },
  {
   "cell_type": "code",
   "execution_count": 33,
   "id": "feaae382-74ee-4a27-8450-7385c9df46bd",
   "metadata": {},
   "outputs": [
    {
     "data": {
      "text/html": [
       "<div>\n",
       "<style scoped>\n",
       "    .dataframe tbody tr th:only-of-type {\n",
       "        vertical-align: middle;\n",
       "    }\n",
       "\n",
       "    .dataframe tbody tr th {\n",
       "        vertical-align: top;\n",
       "    }\n",
       "\n",
       "    .dataframe thead th {\n",
       "        text-align: right;\n",
       "    }\n",
       "</style>\n",
       "<table border=\"1\" class=\"dataframe\">\n",
       "  <thead>\n",
       "    <tr style=\"text-align: right;\">\n",
       "      <th></th>\n",
       "      <th>tokenized text</th>\n",
       "      <th>pad_text</th>\n",
       "    </tr>\n",
       "  </thead>\n",
       "  <tbody>\n",
       "    <tr>\n",
       "      <th>0</th>\n",
       "      <td>[4637, 5211, 3830, 989, 5212, 76, 229, 960, 18...</td>\n",
       "      <td>[0, 0, 0, 0, 0, 0, 0, 0, 0, 0, 0, 0, 0, 0, 0, ...</td>\n",
       "    </tr>\n",
       "    <tr>\n",
       "      <th>1</th>\n",
       "      <td>[853, 255, 15, 26, 78, 109, 161, 120]</td>\n",
       "      <td>[0, 0, 0, 0, 0, 0, 0, 0, 0, 0, 0, 0, 0, 0, 0, ...</td>\n",
       "    </tr>\n",
       "    <tr>\n",
       "      <th>2</th>\n",
       "      <td>[1525, 1067, 1711, 337, 64, 489, 99, 2841, 125...</td>\n",
       "      <td>[0, 0, 0, 0, 0, 0, 0, 0, 0, 0, 0, 0, 0, 0, 0, ...</td>\n",
       "    </tr>\n",
       "    <tr>\n",
       "      <th>3</th>\n",
       "      <td>[7078, 414, 3831, 1227, 1297, 2842, 68, 3832, 4]</td>\n",
       "      <td>[0, 0, 0, 0, 0, 0, 0, 0, 0, 0, 0, 0, 0, 0, 0, ...</td>\n",
       "    </tr>\n",
       "    <tr>\n",
       "      <th>4</th>\n",
       "      <td>[787, 203, 66, 1650, 1950, 1951, 11878, 1952, ...</td>\n",
       "      <td>[0, 0, 0, 0, 0, 0, 0, 0, 0, 0, 0, 0, 0, 0, 0, ...</td>\n",
       "    </tr>\n",
       "  </tbody>\n",
       "</table>\n",
       "</div>"
      ],
      "text/plain": [
       "                                      tokenized text  \\\n",
       "0  [4637, 5211, 3830, 989, 5212, 76, 229, 960, 18...   \n",
       "1              [853, 255, 15, 26, 78, 109, 161, 120]   \n",
       "2  [1525, 1067, 1711, 337, 64, 489, 99, 2841, 125...   \n",
       "3   [7078, 414, 3831, 1227, 1297, 2842, 68, 3832, 4]   \n",
       "4  [787, 203, 66, 1650, 1950, 1951, 11878, 1952, ...   \n",
       "\n",
       "                                            pad_text  \n",
       "0  [0, 0, 0, 0, 0, 0, 0, 0, 0, 0, 0, 0, 0, 0, 0, ...  \n",
       "1  [0, 0, 0, 0, 0, 0, 0, 0, 0, 0, 0, 0, 0, 0, 0, ...  \n",
       "2  [0, 0, 0, 0, 0, 0, 0, 0, 0, 0, 0, 0, 0, 0, 0, ...  \n",
       "3  [0, 0, 0, 0, 0, 0, 0, 0, 0, 0, 0, 0, 0, 0, 0, ...  \n",
       "4  [0, 0, 0, 0, 0, 0, 0, 0, 0, 0, 0, 0, 0, 0, 0, ...  "
      ]
     },
     "execution_count": 33,
     "metadata": {},
     "output_type": "execute_result"
    }
   ],
   "source": [
    "df[['tokenized text', 'pad_text']].head()"
   ]
  },
  {
   "cell_type": "code",
   "execution_count": 38,
   "id": "202c3c8d-2aae-4e8e-9ed2-638f30c10811",
   "metadata": {},
   "outputs": [
    {
     "data": {
      "text/plain": [
       "array([[0., 0., 0., 0., 0., 0., 0., 0., 0., 0., 0., 0., 0., 0., 0., 0.,\n",
       "        0., 0., 0., 0., 0., 0., 0., 0., 0., 0., 0., 0., 0., 0., 0., 0.,\n",
       "        0., 0., 0., 0., 0., 0., 0., 0., 0., 0., 0., 0., 0., 0., 0., 0.,\n",
       "        0., 0., 0., 0., 0., 0., 0., 0., 0., 0., 0., 0., 0., 0., 0., 0.,\n",
       "        0., 0., 0., 0., 0., 0., 0., 0., 0., 0., 0., 0., 0., 0., 0., 0.,\n",
       "        0., 0., 0., 0., 0., 0., 0., 0., 0., 0., 0., 0., 0., 0., 0., 0.,\n",
       "        0., 0., 0., 0.],\n",
       "       [0., 0., 0., 0., 0., 0., 0., 0., 0., 0., 0., 0., 0., 0., 0., 0.,\n",
       "        0., 0., 0., 0., 0., 0., 0., 0., 0., 0., 0., 0., 0., 0., 0., 0.,\n",
       "        0., 0., 0., 0., 0., 0., 0., 0., 0., 0., 0., 0., 0., 0., 0., 0.,\n",
       "        0., 0., 0., 0., 0., 0., 0., 0., 0., 0., 0., 0., 0., 0., 0., 0.,\n",
       "        0., 0., 0., 0., 0., 0., 0., 0., 0., 0., 0., 0., 0., 0., 0., 0.,\n",
       "        0., 0., 0., 0., 0., 0., 0., 0., 0., 0., 0., 0., 0., 0., 0., 0.,\n",
       "        0., 0., 0., 0.],\n",
       "       [0., 0., 0., 0., 0., 0., 0., 0., 0., 0., 0., 0., 0., 0., 0., 0.,\n",
       "        0., 0., 0., 0., 0., 0., 0., 0., 0., 0., 0., 0., 0., 0., 0., 0.,\n",
       "        0., 0., 0., 0., 0., 0., 0., 0., 0., 0., 0., 0., 0., 0., 0., 0.,\n",
       "        0., 0., 0., 0., 0., 0., 0., 0., 0., 0., 0., 0., 0., 0., 0., 0.,\n",
       "        0., 0., 0., 0., 0., 0., 0., 0., 0., 0., 0., 0., 0., 0., 0., 0.,\n",
       "        0., 0., 0., 0., 0., 0., 0., 0., 0., 0., 0., 0., 0., 0., 0., 0.,\n",
       "        0., 0., 0., 0.]])"
      ]
     },
     "execution_count": 38,
     "metadata": {},
     "output_type": "execute_result"
    }
   ],
   "source": [
    "'''Creates a zero matrix of shape (vocab_size, embedding_dim).\n",
    "Each row represents a word in the vocabulary.\n",
    "vector_size (100 in your case) determines the dimensionality of each word vector.\n",
    "✅ Why?\n",
    "To store the actual Word2Vec embeddings while keeping a placeholder (zero vector) for unknown words.'''\n",
    "embedding_matrix = np.zeros((vocab_size, word2vec_model.vector_size))\n",
    "embedding_matrix[:3]"
   ]
  },
  {
   "cell_type": "code",
   "execution_count": 40,
   "id": "6b8d43fd-3b6d-4de0-b01b-c6d3b77d28a5",
   "metadata": {},
   "outputs": [],
   "source": [
    "'''Iterates through each word in the tokenizer’s vocabulary.\n",
    "Checks if i >= tokenizer.num_words, which ensures that only words within the vocabulary size limit are considered.\n",
    "✅ Why?\n",
    "This avoids indexing errors and ensures that only frequently used words (within num_words limit) are processed.'''\n",
    "\n",
    "'''Retrieves the Word2Vec embedding vector for each word.\n",
    "If the vector exists, it is stored in embedding_matrix[i].\n",
    "✅ Why?\n",
    "This allows us to use pre-trained Word2Vec embeddings instead of training them from scratch'''\n",
    "\n",
    "for word, i in tokenizer.word_index.items():\n",
    "    if i >= tokenizer.num_words:\n",
    "        continue\n",
    "    embedding_vector = word2vec_model.wv[word]\n",
    "    if embedding_vector is not None:\n",
    "        embedding_matrix[i] = embedding_vector"
   ]
  },
  {
   "cell_type": "code",
   "execution_count": null,
   "id": "decb0190-047e-4fab-89b3-d3f7f2ee1313",
   "metadata": {},
   "outputs": [],
   "source": []
  },
  {
   "cell_type": "code",
   "execution_count": 43,
   "id": "bf6e39a9-8eb6-4185-b867-2e1ddb4191a1",
   "metadata": {},
   "outputs": [
    {
     "name": "stdout",
     "output_type": "stream",
     "text": [
      "(18292, 2) (4574, 2)\n"
     ]
    }
   ],
   "source": [
    "from sklearn.model_selection import train_test_split as tts\n",
    "\n",
    "train, test = tts(df[['pad_text', 'real']], test_size=0.2, random_state=42)\n",
    "print(train.shape, test.shape)"
   ]
  },
  {
   "cell_type": "code",
   "execution_count": 45,
   "id": "9adcc517-5738-4d25-95df-03a0c10fd9e6",
   "metadata": {
    "scrolled": true
   },
   "outputs": [
    {
     "data": {
      "text/plain": [
       "tensor([[ 0.0000e+00,  0.0000e+00,  0.0000e+00,  ...,  0.0000e+00,\n",
       "          0.0000e+00,  0.0000e+00],\n",
       "        [-8.6835e-01,  1.4027e+00,  4.7915e-01,  ..., -1.4054e+00,\n",
       "          3.6001e-01,  3.2632e-01],\n",
       "        [-5.7036e-01,  1.0241e+00,  5.9774e-01,  ..., -9.3299e-01,\n",
       "          1.4980e-01, -1.3280e-02],\n",
       "        ...,\n",
       "        [ 2.3476e-03, -2.4478e-03,  8.8939e-05,  ..., -2.9073e-03,\n",
       "          3.3379e-03,  6.4751e-03],\n",
       "        [ 3.8950e-03,  3.8323e-03,  2.9956e-04,  ...,  1.4935e-03,\n",
       "         -6.8046e-03, -6.2878e-03],\n",
       "        [-1.9330e-03,  1.3118e-03, -7.9460e-03,  ..., -1.9730e-03,\n",
       "         -4.7502e-04,  2.8888e-03]])"
      ]
     },
     "execution_count": 45,
     "metadata": {},
     "output_type": "execute_result"
    }
   ],
   "source": [
    "''' PyTorch models (e.g., LSTMs, Transformers) require tensor inputs, not NumPy arrays.\n",
    "🔹 Tensors support automatic differentiation for training deep learning models.\n",
    "🔹 Tensors can be moved to GPU (.cuda()) for faster computations.'''\n",
    "embedded_matrix_tensor = torch.Tensor(embedding_matrix)\n",
    "embedded_matrix_tensor"
   ]
  },
  {
   "cell_type": "code",
   "execution_count": 47,
   "id": "f1ce6bdd-0605-481d-85fe-6aa9a1ce1335",
   "metadata": {},
   "outputs": [],
   "source": [
    "import torch.optim as optim\n",
    "class LSTMModel(nn.Module):\n",
    "    def __init__(self, vocab_size, embedding_dim, hidden_dim, output_dim, n_layers, dropout):\n",
    "        super().__init__()\n",
    "        self.embedding = nn.Embedding(vocab_size, embedding_dim)\n",
    "        self.embedding = nn.Embedding.from_pretrained(embedded_matrix_tensor)\n",
    "        self.embedding.requires_grad=False\n",
    "        self.lstm = nn.LSTM(embedding_dim, hidden_dim, n_layers, dropout = dropout)\n",
    "        self.fc = nn.Linear(hidden_dim, output_dim)\n",
    "        self.dropout = nn.Dropout(dropout)\n",
    "    def forward(self, text):\n",
    "        embedded = self.dropout(self.embedding(text).float())\n",
    "        output, (hidden, _) = self.lstm(embedded)\n",
    "        hidden = self.dropout(hidden[-1,:,:])\n",
    "        return self.fc(hidden.squeeze(0))"
   ]
  },
  {
   "cell_type": "code",
   "execution_count": 49,
   "id": "07054422-5f8b-41a5-acca-5b062a1e9081",
   "metadata": {},
   "outputs": [],
   "source": [
    "import random\n",
    "SEED = 42\n",
    "random.seed(SEED)\n",
    "\n",
    "BATCH_SIZE = 30\n",
    "device = torch.device('cuda' if torch.cuda.is_available() else 'cpu')"
   ]
  },
  {
   "cell_type": "code",
   "execution_count": 51,
   "id": "1a9a5596-98ca-44c4-ab81-3b2e095c3174",
   "metadata": {},
   "outputs": [
    {
     "data": {
      "text/plain": [
       "LSTMModel(\n",
       "  (embedding): Embedding(26715, 100)\n",
       "  (lstm): LSTM(100, 256, num_layers=2, dropout=0.5)\n",
       "  (fc): Linear(in_features=256, out_features=1, bias=True)\n",
       "  (dropout): Dropout(p=0.5, inplace=False)\n",
       ")"
      ]
     },
     "execution_count": 51,
     "metadata": {},
     "output_type": "execute_result"
    }
   ],
   "source": [
    "INPUT_DIM = vocab_size\n",
    "EMBEDDING_DIM = word2vec_model.vector_size\n",
    "HIDDEN_DIM = 256\n",
    "OUTPUT_DIM = 1\n",
    "N_LAYERS = 2\n",
    "DROPOUT = 0.5\n",
    "model = LSTMModel(INPUT_DIM, EMBEDDING_DIM, HIDDEN_DIM, OUTPUT_DIM, N_LAYERS, DROPOUT)\n",
    "optimizer = optim.Adam(model.parameters())\n",
    "criterion = nn.BCEWithLogitsLoss()\n",
    "model = model.to(device)\n",
    "criterion = criterion.to(device)\n",
    "model "
   ]
  },
  {
   "cell_type": "code",
   "execution_count": 52,
   "id": "dac916e8-c9e0-4dec-8d99-42c1b7689a08",
   "metadata": {},
   "outputs": [],
   "source": [
    "def binary_accuracy(preds, y):\n",
    "    rounded_preds = torch.round(torch.sigmoid(preds))\n",
    "    correct = (rounded_preds == y).float()\n",
    "    acc = correct.sum() / len(correct)\n",
    "    return acc"
   ]
  },
  {
   "cell_type": "code",
   "execution_count": 53,
   "id": "54994a7b-ad72-4954-8559-d5826451d856",
   "metadata": {},
   "outputs": [],
   "source": [
    "def train(model, df, x_col, y_col, optimizer, criterion):\n",
    "    epoch_loss = 0\n",
    "    epoch_acc = 0\n",
    "    model.train()\n",
    "\n",
    "    all_predictions = []\n",
    "    all_labels = []\n",
    "\n",
    "    x_batches = create_batch_iterator(df, BATCH_SIZE, x_col)\n",
    "    y_batches = create_batch_iterator(df, BATCH_SIZE, y_col)\n",
    "\n",
    "    iterations = 0\n",
    "\n",
    "    for batch_text, batch_label in zip(x_batches, y_batches):\n",
    "        batch_text = torch.Tensor(batch_text).to(device).long().T\n",
    "        batch_label = torch.Tensor(batch_label).to(device).long()\n",
    "        # print(batch_text.shape, batch_label.shape)\n",
    "        \n",
    "        optimizer.zero_grad()\n",
    "        predictions = model(batch_text).squeeze(1)\n",
    "        # print(predictions.shape, batch_label.shape)\n",
    "        loss = criterion(predictions.float(), batch_label.float())\n",
    "        acc = binary_accuracy(predictions, batch_label)\n",
    "        loss.backward()\n",
    "        optimizer.step()\n",
    "\n",
    "        epoch_loss += loss.item()\n",
    "        epoch_acc += acc.item()\n",
    "\n",
    "        all_predictions += predictions.tolist()\n",
    "        all_labels += batch_label.tolist()\n",
    "        iterations += 1\n",
    "    \n",
    "    all_predictions = torch.tensor(all_predictions)\n",
    "    all_labels = torch.tensor(all_labels)\n",
    "    val_acc = binary_accuracy(all_predictions, all_labels)\n",
    "    val_loss = criterion(all_predictions.float(), all_labels.float()).item()\n",
    "\n",
    "    return epoch_loss / iterations, epoch_acc / iterations, val_loss, val_acc.item()\n"
   ]
  },
  {
   "cell_type": "code",
   "execution_count": 54,
   "id": "2466dcbf-0ca1-4792-9adb-ffbeeb4148fb",
   "metadata": {},
   "outputs": [
    {
     "data": {
      "text/plain": [
       "array([[    0,     0,     0, ...,   189,    32,   632],\n",
       "       [    0,     0,     0, ...,   109,   161,   120],\n",
       "       [    0,     0,     0, ...,  4639, 11877,    11],\n",
       "       ...,\n",
       "       [    0,     0,     0, ...,  5217,  5218,   824],\n",
       "       [    0,     0,     0, ...,  1530,   234,     7],\n",
       "       [    0,     0,     0, ...,   687,  2393,     1]])"
      ]
     },
     "execution_count": 54,
     "metadata": {},
     "output_type": "execute_result"
    }
   ],
   "source": [
    "def split_by_batchsize(arr, batch_size):\n",
    "    return np.array_split(arr, (arr.shape[0]/batch_size)+1)\n",
    "    \n",
    "def create_batch_iterator(iter_df, batch_size, col):\n",
    "    x = split_by_batchsize(df[col].to_numpy(), batch_size)\n",
    "    n_batches = len(x)\n",
    "    \n",
    "    def iterator():\n",
    "        for i in range(n_batches):\n",
    "            yield np.array([*x[i]])\n",
    "        return\n",
    "\n",
    "    return iterator()\n",
    "\n",
    "next(create_batch_iterator(df, BATCH_SIZE, 'pad_text'))"
   ]
  },
  {
   "cell_type": "code",
   "execution_count": 59,
   "id": "126ad838-136f-409f-8566-5bf898bd7d57",
   "metadata": {},
   "outputs": [],
   "source": [
    "from sklearn.metrics import accuracy_score, f1_score, roc_auc_score, roc_curve, auc\n",
    "import matplotlib.pyplot as plt\n",
    "\n",
    "def evaluate_model(model, df, x_col, y_col):\n",
    "    all_predictions = []\n",
    "    all_labels = []\n",
    "\n",
    "    x_batches = create_batch_iterator(df, BATCH_SIZE, x_col)\n",
    "    y_batches = create_batch_iterator(df, BATCH_SIZE, y_col)\n",
    "\n",
    "    for batch_text, batch_label in zip(x_batches, y_batches):\n",
    "        batch_text = torch.Tensor(batch_text).to(device).long().T\n",
    "        batch_label = torch.Tensor(batch_label).to(device).long()\n",
    "        \n",
    "        predictions = model(batch_text).squeeze(1)\n",
    "        all_predictions += predictions.tolist()\n",
    "        all_labels += batch_label.tolist()\n",
    "\n",
    "    all_predictions = torch.tensor(all_predictions)\n",
    "    all_labels = torch.tensor(all_labels)\n",
    "    y_pred_binary = torch.round(torch.sigmoid(all_predictions)).cpu().numpy()\n",
    "    y_true = all_labels.cpu().numpy()\n",
    "\n",
    "    accuracy = accuracy_score(y_true, y_pred_binary)\n",
    "    f1 = f1_score(y_true, y_pred_binary)\n",
    "    roc_auc = roc_auc_score(y_true, all_predictions.cpu().numpy())\n",
    "\n",
    "    print(\"Accuracy:\", accuracy)\n",
    "    print(\"F1 Score:\", f1)\n",
    "    print(\"ROC AUC Score:\", roc_auc)\n",
    "\n",
    "    fpr, tpr, _ = roc_curve(y_true, all_predictions.cpu().numpy())\n",
    "    roc_auc = auc(fpr, tpr)\n",
    "\n",
    "    plt.figure()\n",
    "    plt.plot(fpr, tpr, color='darkorange', lw=2, label='ROC curve (area = %0.2f)' % roc_auc)\n",
    "    plt.plot([0, 1], [0, 1], color='navy', lw=2, linestyle='--')\n",
    "    plt.xlim([0.0, 1.0])\n",
    "    plt.ylim([0.0, 1.05])\n",
    "    plt.xlabel('False Positive Rate')\n",
    "    plt.ylabel('True Positive Rate')\n",
    "    plt.title('Receiver Operating Characteristic')\n",
    "    plt.legend(loc=\"lower right\")\n",
    "    plt.show()"
   ]
  },
  {
   "cell_type": "code",
   "execution_count": 61,
   "id": "0152d3bf-8c9e-40b6-b361-ea1489e4f275",
   "metadata": {},
   "outputs": [
    {
     "name": "stdout",
     "output_type": "stream",
     "text": [
      "Accuracy: 0.5595644187877198\n",
      "F1 Score: 0.6786842357145136\n",
      "ROC AUC Score: 0.5006714568102664\n"
     ]
    },
    {
     "data": {
      "image/png": "[encoded data removed]",
      "text/plain": [
       "<Figure size 640x480 with 1 Axes>"
      ]
     },
     "metadata": {},
     "output_type": "display_data"
    }
   ],
   "source": [
    "evaluate_model(model, test, 'pad_text', 'real')"
   ]
  },
  {
   "cell_type": "code",
   "execution_count": 89,
   "id": "d970bbf2-160c-4153-977c-aa8675b3a3c0",
   "metadata": {},
   "outputs": [],
   "source": [
    "import pickle\n",
    "\n",
    "# Example: Save a sample dictionary (replace with your model)\n",
    "model = {\"name\": \"Sample Fake news Model\", \"version\": 1}\n",
    "\n",
    "with open(\"model.txt\", \"wb\") as file:\n",
    "    pickle.dump(model, file)"
   ]
  },
  {
   "cell_type": "code",
   "execution_count": 91,
   "id": "288a1315-1596-4d24-8d02-d41b6ddc355e",
   "metadata": {},
   "outputs": [
    {
     "name": "stdout",
     "output_type": "stream",
     "text": [
      "{'name': 'Sample Fake news Model', 'version': 1}\n"
     ]
    }
   ],
   "source": [
    "with open(\"model.txt\", \"rb\") as file:\n",
    "    loaded_model = pickle.load(file)\n",
    "print(loaded_model)"
   ]
  },
  {
   "cell_type": "code",
   "execution_count": 67,
   "id": "214d2cb0-b808-4f94-9488-aef528d1a243",
   "metadata": {},
   "outputs": [
    {
     "name": "stdout",
     "output_type": "stream",
     "text": [
      " * Serving Flask app '__main__'\n",
      " * Debug mode: on\n"
     ]
    },
    {
     "name": "stderr",
     "output_type": "stream",
     "text": [
      "WARNING: This is a development server. Do not use it in a production deployment. Use a production WSGI server instead.\n",
      " * Running on http://127.0.0.1:5000\n",
      "Press CTRL+C to quit\n",
      " * Restarting with watchdog (windowsapi)\n"
     ]
    },
    {
     "ename": "SystemExit",
     "evalue": "1",
     "output_type": "error",
     "traceback": [
      "An exception has occurred, use %tb to see the full traceback.\n",
      "\u001b[1;31mSystemExit\u001b[0m\u001b[1;31m:\u001b[0m 1\n"
     ]
    },
    {
     "name": "stderr",
     "output_type": "stream",
     "text": [
      "C:\\Users\\rt\\anaconda3\\Lib\\site-packages\\IPython\\core\\interactiveshell.py:3561: UserWarning: To exit: use 'exit', 'quit', or Ctrl-D.\n",
      "  warn(\"To exit: use 'exit', 'quit', or Ctrl-D.\", stacklevel=1)\n"
     ]
    }
   ],
   "source": [
    "from flask import Flask, request, jsonify\n",
    "import torch\n",
    "import numpy as np\n",
    "import joblib  # For loading the model\n",
    "\n",
    "# Load the trained model\n",
    "model = joblib.load(\"model.pkl\")  # Replace with your model file\n",
    "\n",
    "app = Flask(__name__)\n",
    "\n",
    "@app.route(\"/\", methods=[\"GET\"])\n",
    "def home():\n",
    "    return \"Fake News Prediction API is running!\"\n",
    "\n",
    "@app.route(\"/predict\", methods=[\"POST\"])\n",
    "def predict():\n",
    "    data = request.json\n",
    "    text = data.get(\"text\", \"\")\n",
    "\n",
    "    if not text:\n",
    "        return jsonify({\"error\": \"No input text provided\"}), 400\n",
    "\n",
    "    # Preprocess input (modify as needed)\n",
    "    processed_text = text.lower()\n",
    "\n",
    "    # Convert input to tensor (example)\n",
    "    input_tensor = torch.tensor(np.array([len(processed_text.split())]))\n",
    "\n",
    "    # Make a prediction\n",
    "    prediction = model.predict([processed_text])  # Modify based on model type\n",
    "\n",
    "    return jsonify({\"prediction\": int(prediction[0])})\n",
    "\n",
    "if __name__ == \"__main__\":\n",
    "    app.run(debug=True)\n"
   ]
  },
  {
   "cell_type": "code",
   "execution_count": 93,
   "id": "6824e2cc-9d9b-4e09-93ef-f4aa2741485c",
   "metadata": {},
   "outputs": [],
   "source": [
    "import pickle\n",
    "from sklearn.feature_extraction.text import TfidfVectorizer\n",
    "\n",
    "# Example: Create and fit a vectorizer\n",
    "vectorizer = TfidfVectorizer()\n",
    "# sample_data = [\"This is an example text\", \"Machine learning is powerful\"]\n",
    "# vectorizer.fit(sample_data)\n",
    "\n",
    "# Save it\n",
    "with open(\"vectorizer.txt\", \"wb\") as file:\n",
    "    pickle.dump(vectorizer, file)"
   ]
  },
  {
   "cell_type": "code",
   "execution_count": 95,
   "id": "fb7783d2-0ff9-40fb-8634-4894ee1918d0",
   "metadata": {},
   "outputs": [
    {
     "name": "stdout",
     "output_type": "stream",
     "text": [
      "Vectorizer loaded successfully!\n"
     ]
    }
   ],
   "source": [
    "with open(\"vectorizer.txt\", \"rb\") as file:\n",
    "    loaded_vectorizer = pickle.load(file)\n",
    "print(\"Vectorizer loaded successfully!\")"
   ]
  },
  {
   "cell_type": "code",
   "execution_count": 97,
   "id": "ed42744b-7482-494e-94c5-6c201124cbf6",
   "metadata": {},
   "outputs": [
    {
     "name": "stdout",
     "output_type": "stream",
     "text": [
      "Running on local URL:  http://127.0.0.1:7865\n",
      "\n",
      "To create a public link, set `share=True` in `launch()`.\n"
     ]
    },
    {
     "data": {
      "text/html": [
       "<div><iframe src=\"http://127.0.0.1:7865/\" width=\"100%\" height=\"500\" allow=\"autoplay; camera; microphone; clipboard-read; clipboard-write;\" frameborder=\"0\" allowfullscreen></iframe></div>"
      ],
      "text/plain": [
       "<IPython.core.display.HTML object>"
      ]
     },
     "metadata": {},
     "output_type": "display_data"
    },
    {
     "data": {
      "text/plain": []
     },
     "execution_count": 97,
     "metadata": {},
     "output_type": "execute_result"
    }
   ],
   "source": [
    "import gradio as gr\n",
    "import joblib\n",
    "from sklearn.feature_extraction.text import TfidfVectorizer\n",
    "\n",
    "# Load the model and vectorizer\n",
    "model = joblib.load(\"model.pkl\")\n",
    "vectorizer = joblib.load(\"vectorizer.pkl\")\n",
    "\n",
    "def predict_fake_news(text):\n",
    "    # Preprocess the input text\n",
    "    processed_text = text.lower()\n",
    "    \n",
    "    # Vectorize the input text\n",
    "    vectorized_text = vectorizer.transform([processed_text])\n",
    "    \n",
    "    # Make a prediction\n",
    "    prediction = model.predict(vectorized_text)\n",
    "    \n",
    "    # Return the result\n",
    "    return \"Fake News\" if prediction[0] == 1 else \"Real News\"\n",
    "\n",
    "# Create the Gradio interface\n",
    "iface = gr.Interface(\n",
    "    fn=predict_fake_news,\n",
    "    inputs=gr.Textbox(label=\"Enter News Text\"),\n",
    "    outputs=gr.Label(label=\"Prediction\"),\n",
    "    title=\"Fake News Detector\",\n",
    "    description=\"Enter a news headline or content to check if it's real or fake.\"\n",
    ")\n",
    "\n",
    "# Launch the interface\n",
    "iface.launch()\n"
   ]
  },
  {
   "cell_type": "code",
   "execution_count": null,
   "id": "ceddcd45-403c-4526-a8cd-2dec43ae121a",
   "metadata": {},
   "outputs": [],
   "source": []
  }
 ],
 "metadata": {
  "kernelspec": {
   "display_name": "Python 3 (ipykernel)",
   "language": "python",
   "name": "python3"
  },
  "language_info": {
   "codemirror_mode": {
    "name": "ipython",
    "version": 3
   },
   "file_extension": ".py",
   "mimetype": "text/x-python",
   "name": "python",
   "nbconvert_exporter": "python",
   "pygments_lexer": "ipython3",
   "version": "3.11.9"
  }
 },
 "nbformat": 4,
 "nbformat_minor": 5
}
